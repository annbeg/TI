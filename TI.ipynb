{
  "nbformat": 4,
  "nbformat_minor": 0,
  "metadata": {
    "colab": {
      "name": "TI2.ipynb",
      "provenance": [],
      "collapsed_sections": [],
      "toc_visible": true
    },
    "kernelspec": {
      "name": "python3",
      "display_name": "Python 3"
    }
  },
  "cells": [
    {
      "cell_type": "markdown",
      "metadata": {
        "id": "s6dZXRvItCJ4",
        "colab_type": "text"
      },
      "source": [
        "# **Устанавливаем библиотеки**"
      ]
    },
    {
      "cell_type": "code",
      "metadata": {
        "id": "kvO62LmU3P_D",
        "colab_type": "code",
        "colab": {}
      },
      "source": [
        "!pip3 install torch\n",
        "!pip3 install pandas\n",
        "!pip3 install scikit-learn"
      ],
      "execution_count": 0,
      "outputs": []
    },
    {
      "cell_type": "code",
      "metadata": {
        "id": "HQ8HlLqfEKVM",
        "colab_type": "code",
        "colab": {}
      },
      "source": [
        "import torch\n",
        "import numpy as np\n",
        "import pandas as pd\n",
        "from sklearn.model_selection import train_test_split\n",
        "from sklearn.preprocessing import StandardScaler\n",
        "from sklearn.datasets import make_moons, make_circles, make_classification\n",
        "from sklearn.neural_network import MLPClassifier\n",
        "from sklearn.neighbors import KNeighborsClassifier\n",
        "from sklearn.svm import SVC\n",
        "from sklearn.gaussian_process import GaussianProcessClassifier\n",
        "from sklearn.gaussian_process.kernels import RBF\n",
        "from sklearn.tree import DecisionTreeClassifier\n",
        "from sklearn.naive_bayes import GaussianNB\n",
        "from sklearn.discriminant_analysis import QuadraticDiscriminantAnalysis\n",
        "from sklearn.ensemble import RandomForestClassifier, AdaBoostClassifier, ExtraTreesClassifier\n",
        "import matplotlib.pyplot as plt\n",
        "%matplotlib inline\n"
      ],
      "execution_count": 0,
      "outputs": []
    },
    {
      "cell_type": "markdown",
      "metadata": {
        "id": "92d9G9CdszCc",
        "colab_type": "text"
      },
      "source": [
        "# **Обрабатываем данные**"
      ]
    },
    {
      "cell_type": "markdown",
      "metadata": {
        "id": "gV3IDw04EEUy",
        "colab_type": "text"
      },
      "source": [
        "Загружаем и обрабатываем данные"
      ]
    },
    {
      "cell_type": "code",
      "metadata": {
        "id": "NTn-6Sll3aZv",
        "colab_type": "code",
        "colab": {}
      },
      "source": [
        "df = pd.read_csv('/content/transport_data.csv',header=0,sep=',')"
      ],
      "execution_count": 0,
      "outputs": []
    },
    {
      "cell_type": "code",
      "metadata": {
        "id": "6pLCWuOJHE6Q",
        "colab_type": "code",
        "colab": {}
      },
      "source": [
        "data = df[(df.label != '-') & (df.label != '?')].iloc[:,[0,1,2,3]]"
      ],
      "execution_count": 0,
      "outputs": []
    },
    {
      "cell_type": "code",
      "metadata": {
        "id": "rsZSqEUpkk8O",
        "colab_type": "code",
        "colab": {}
      },
      "source": [
        "target = df[(df.label != '-') & (df.label != '?')].iloc[:,[4]]\n",
        "target = target.apply(pd.to_numeric)"
      ],
      "execution_count": 0,
      "outputs": []
    },
    {
      "cell_type": "code",
      "metadata": {
        "id": "JdgF_oOedRLS",
        "colab_type": "code",
        "colab": {}
      },
      "source": [
        "test = df[(df.label == '?')].iloc[:,[0,1,2,3]]"
      ],
      "execution_count": 0,
      "outputs": []
    },
    {
      "cell_type": "code",
      "metadata": {
        "id": "Kpvo99K2wCXp",
        "colab_type": "code",
        "colab": {}
      },
      "source": [
        "data.trans_ts = pd.to_datetime(data.trans_ts, unit='s')\n",
        "data.request_ts = pd.to_datetime(data.request_ts, unit='s')\n",
        "\n",
        "data['trans_ts_d'] = data.trans_ts.dt.dayofweek\n",
        "data['trans_ts_h'] = data.trans_ts.dt.hour\n",
        "data['trans_ts_m'] = data.trans_ts.dt.minute\n",
        "data['trans_ts_s'] = data.trans_ts.dt.second\n",
        "\n",
        "\n",
        "\n",
        "data = data.drop('trans_ts', axis = 1)\n",
        "\n",
        "data['dayofweek_request_ts'] = data.request_ts.dt.dayofweek\n",
        "data['hour_request_ts'] = data.request_ts.dt.hour\n",
        "data['minute_request_ts'] = data.request_ts.dt.minute\n",
        "data['request_ts_s'] = data.request_ts.dt.second\n",
        "\n",
        "data = data.drop('request_ts', axis = 1)\n",
        "\n",
        "\n",
        "test.trans_ts = pd.to_datetime(test.trans_ts, unit='s')\n",
        "test.request_ts = pd.to_datetime(test.request_ts, unit='s')\n",
        "\n",
        "test['trans_ts_d'] = test.trans_ts.dt.dayofweek\n",
        "test['trans_ts_h'] = test.trans_ts.dt.hour\n",
        "test['trans_ts_m'] = test.trans_ts.dt.minute\n",
        "test['trans_ts_s'] = test.trans_ts.dt.second\n",
        "\n",
        "\n",
        "\n",
        "test = test.drop('trans_ts', axis = 1)\n",
        "\n",
        "test['dayofweek_request_ts'] = test.request_ts.dt.dayofweek\n",
        "test['hour_request_ts'] = test.request_ts.dt.hour\n",
        "test['minute_request_ts'] = test.request_ts.dt.minute\n",
        "test['request_ts_s'] = test.request_ts.dt.second\n",
        "\n",
        "test = test.drop('request_ts', axis = 1)"
      ],
      "execution_count": 0,
      "outputs": []
    },
    {
      "cell_type": "markdown",
      "metadata": {
        "id": "n2TvYC_hsYFO",
        "colab_type": "text"
      },
      "source": [
        "# **Через scikit**"
      ]
    },
    {
      "cell_type": "markdown",
      "metadata": {
        "id": "CaFKEnFCEQet",
        "colab_type": "text"
      },
      "source": [
        "Используем в ансамбле 3 метода"
      ]
    },
    {
      "cell_type": "code",
      "metadata": {
        "id": "WOIamQG9gz5S",
        "colab_type": "code",
        "colab": {}
      },
      "source": [
        "classifiers_ensemble = [\n",
        "    RandomForestClassifier(n_estimators=300, max_features=None, n_jobs=-1, max_depth=100, random_state=8),\n",
        "    AdaBoostClassifier(n_estimators=200),\n",
        "    ExtraTreesClassifier(n_estimators=300, max_features=None, n_jobs=-1)\n",
        "    ]"
      ],
      "execution_count": 0,
      "outputs": []
    },
    {
      "cell_type": "markdown",
      "metadata": {
        "id": "b5goUSbeEYMf",
        "colab_type": "text"
      },
      "source": [
        "Обучаемся и выбираем лучшие предсказания"
      ]
    },
    {
      "cell_type": "code",
      "metadata": {
        "id": "HgS2VTXtmCCo",
        "colab_type": "code",
        "colab": {}
      },
      "source": [
        "check = True\n",
        "\n",
        "for classifier in classifiers_ensemble:\n",
        "  classifier.fit(data, target)\n",
        "  if (check == True):\n",
        "    predictions = classifier.predict(test)\n",
        "    check = False\n",
        "  else:\n",
        "    predictions = np.vstack((predictions,classifier.predict(test)))\n",
        "\n",
        "prediction = []\n",
        "for i in range(len(predictions[0])):\n",
        "  predLab0 = 0\n",
        "  predLab1 = 0\n",
        "  predLab2 = 0\n",
        "  for j in range(len(predictions)):\n",
        "    if predictions[j][i] == 0:\n",
        "        predLab0 = predLab0 + 1\n",
        "    if predictions[j][i] == 1:\n",
        "        predLab1 = predLab1 + 1\n",
        "    if predictions[j][i] == 2:\n",
        "        predLab2 = predLab2 + 1\n",
        "\n",
        "  if ((predLab0 >= predLab1) and (predLab0 >= predLab2)):\n",
        "    prediction = prediction + [0]\n",
        "  else:\n",
        "    if ((predLab1 >= predLab0) and (predLab1 >= predLab2)):\n",
        "      prediction = prediction + [1]\n",
        "    else:\n",
        "      prediction = prediction + [2]\n",
        "\n"
      ],
      "execution_count": 0,
      "outputs": []
    },
    {
      "cell_type": "markdown",
      "metadata": {
        "id": "SvFUDq0XEoCP",
        "colab_type": "text"
      },
      "source": [
        "Рассмотрим наши предсказания на графике"
      ]
    },
    {
      "cell_type": "code",
      "metadata": {
        "id": "qqXfAIZ5Mh02",
        "colab_type": "code",
        "outputId": "6bdd250a-203f-46ec-8948-c2e2753e501e",
        "colab": {
          "base_uri": "https://localhost:8080/",
          "height": 350
        }
      },
      "source": [
        "test = np.array(test)\n",
        "print(type(prediction))\n",
        "prediction = np.array(prediction)\n",
        "indices0 = torch.tensor(np.where(prediction == 0))\n",
        "indices1 = torch.tensor(np.where(prediction == 1))\n",
        "indices2 = torch.tensor(np.where(prediction == 2))\n",
        "print(indices2.shape)\n",
        "print(indices1.shape)\n",
        "print(indices0.shape)\n",
        "\n",
        "plt.scatter(test[indices0[0],[0]],test[indices0,[1]],c='y')\n",
        "plt.scatter(test[indices1,[0]],test[indices1,[1]],c='g')\n",
        "plt.scatter(test[indices2,[0]],test[indices2,[1]],c='r')"
      ],
      "execution_count": 0,
      "outputs": [
        {
          "output_type": "stream",
          "text": [
            "<class 'list'>\n",
            "torch.Size([1, 697])\n",
            "torch.Size([1, 1771])\n",
            "torch.Size([1, 2532])\n"
          ],
          "name": "stdout"
        },
        {
          "output_type": "execute_result",
          "data": {
            "text/plain": [
              "<matplotlib.collections.PathCollection at 0x7f412c895358>"
            ]
          },
          "metadata": {
            "tags": []
          },
          "execution_count": 11
        },
        {
          "output_type": "display_data",
          "data": {
            "image/png": "[encoded data removed]",
            "text/plain": [
              "<Figure size 432x288 with 1 Axes>"
            ]
          },
          "metadata": {
            "tags": []
          }
        }
      ]
    },
    {
      "cell_type": "code",
      "metadata": {
        "id": "dgtpDtvElPzH",
        "colab_type": "code",
        "colab": {}
      },
      "source": [
        "np.savetxt('predwithout.txt', prediction, fmt=\"%s\")"
      ],
      "execution_count": 0,
      "outputs": []
    },
    {
      "cell_type": "markdown",
      "metadata": {
        "id": "ITjCbI0LE3BC",
        "colab_type": "text"
      },
      "source": [
        "Отсортируем геометрически"
      ]
    },
    {
      "cell_type": "code",
      "metadata": {
        "id": "eZqm-8v2iy8d",
        "colab_type": "code",
        "colab": {}
      },
      "source": [
        "k = 0\n",
        "for i in range(test.shape[0]):\n",
        "  if ((test[i][0] <= 30.285)|(test[i][1] >= 59.936)&(test[i][1] <= 59.945)&(test[i][0] <= 30.303)|(test[i][1] >= 59.965)):\n",
        "    prediction[i] = 1\n",
        "  elif ((test[i][0] >= 30.397)|(test[i][1] >= 59.945)):\n",
        "    prediction[i] = 2\n",
        "  elif ((test[i][1] <= 59.9347)&(test[i][0] <= 30.31)):\n",
        "    prediction[i] = 0\n",
        "    "
      ],
      "execution_count": 0,
      "outputs": []
    },
    {
      "cell_type": "code",
      "metadata": {
        "id": "xSxtpLRXN14V",
        "colab_type": "code",
        "outputId": "33c32077-7557-4887-c535-67e3afeaf2c8",
        "colab": {
          "base_uri": "https://localhost:8080/",
          "height": 333
        }
      },
      "source": [
        "indices0 = torch.tensor(np.where(prediction == 0))\n",
        "indices1 = torch.tensor(np.where(prediction == 1))\n",
        "indices2 = torch.tensor(np.where(prediction == 2))\n",
        "print(indices2.shape)\n",
        "print(indices1.shape)\n",
        "print(indices0.shape)\n",
        "\n",
        "plt.scatter(test[indices0[0],[0]],test[indices0,[1]],c='y')\n",
        "plt.scatter(test[indices1,[0]],test[indices1,[1]],c='g')\n",
        "plt.scatter(test[indices2,[0]],test[indices2,[1]],c='r')"
      ],
      "execution_count": 0,
      "outputs": [
        {
          "output_type": "stream",
          "text": [
            "torch.Size([1, 730])\n",
            "torch.Size([1, 1755])\n",
            "torch.Size([1, 2515])\n"
          ],
          "name": "stdout"
        },
        {
          "output_type": "execute_result",
          "data": {
            "text/plain": [
              "<matplotlib.collections.PathCollection at 0x7f412c7aa908>"
            ]
          },
          "metadata": {
            "tags": []
          },
          "execution_count": 14
        },
        {
          "output_type": "display_data",
          "data": {
            "image/png": "[encoded data removed]",
            "text/plain": [
              "<Figure size 432x288 with 1 Axes>"
            ]
          },
          "metadata": {
            "tags": []
          }
        }
      ]
    },
    {
      "cell_type": "code",
      "metadata": {
        "id": "vycgXA0_tE5x",
        "colab_type": "code",
        "colab": {}
      },
      "source": [
        "np.savetxt('prediction.txt', prediction, fmt=\"%s\")"
      ],
      "execution_count": 0,
      "outputs": []
    }
  ]
}